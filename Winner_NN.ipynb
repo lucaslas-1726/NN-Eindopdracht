{
 "cells": [
  {
   "cell_type": "markdown",
   "id": "e957794d-1d41-4156-a2e7-3796bd1e1b2a",
   "metadata": {},
   "source": [
    "# Eindopdracht begin begin"
   ]
  },
  {
   "cell_type": "code",
   "execution_count": 1,
   "id": "82d7339d-1259-4c87-a529-d13d98596823",
   "metadata": {},
   "outputs": [],
   "source": [
    "import torch\n",
    "from torch import nn, Tensor\n",
    "import torch.nn.functional \n",
    "from torchvision.transforms import functional as F\n",
    "\n",
    "from torch.utils.data import DataLoader, random_split, Dataset, TensorDataset, Subset\n",
    "from pipetorch.data import read_from_kaggle, plot_boundaries\n",
    "from pipetorch.train import *\n",
    "from sklearn.model_selection import train_test_split\n",
    "from sklearn.preprocessing import StandardScaler\n",
    "\n",
    "import torchvision.transforms as transforms\n",
    "import torchvision\n",
    "import matplotlib.pyplot as plt\n",
    "import numpy as np\n",
    "\n",
    "import os\n",
    "from pathlib import Path  # Import Path from pathlib\n",
    "from PIL import Image, ImageEnhance, ImageDraw\n",
    "from sklearn.metrics import r2_score\n",
    "from torchvision.datasets import ImageFolder\n",
    "import torchvision.utils as vutils\n",
    "import re\n",
    "\n",
    "from optuna.visualization.matplotlib import plot_slice, plot_contour\n",
    "from optuna import create_study, TrialPruned\n",
    "import cv2\n",
    "import random"
   ]
  },
  {
   "cell_type": "markdown",
   "id": "2bc10882-34e4-42ce-b5ea-0ff6eac760af",
   "metadata": {},
   "source": [
    "#### kijken of de folder bestaat en inlaad"
   ]
  },
  {
   "cell_type": "code",
   "execution_count": 2,
   "id": "dfc4b746-6673-4a9b-8518-215c3fbd35ae",
   "metadata": {},
   "outputs": [
    {
     "name": "stdout",
     "output_type": "stream",
     "text": [
      "0000-0.02--0.5625.jpg\n",
      "0001-0.33--1.6875.jpg\n",
      "0002-0.62--1.125.jpg\n",
      "0003-0.91--4.21875.jpg\n",
      "0004-1.21-3.375.jpg\n",
      "0005-1.50--3.9374999999999996.jpg\n",
      "0006-1.81--4.21875.jpg\n",
      "0007-2.13--1.125.jpg\n",
      "0008-2.43-2.25.jpg\n",
      "0009-2.73--3.0937500000000004.jpg\n",
      "ls: write error: Broken pipe\n"
     ]
    }
   ],
   "source": [
    "folder = '/datb/BotsNLE/angle90'\n",
    "!ls $folder | head"
   ]
  },
  {
   "cell_type": "markdown",
   "id": "d262a019-dbf5-438a-b238-5b298baf2fda",
   "metadata": {},
   "source": [
    "#### Inladen van data en ruis toevoegen"
   ]
  },
  {
   "cell_type": "code",
   "execution_count": 45,
   "id": "6c564e0c-1ad4-4e1a-9379-d54dfa8ab167",
   "metadata": {},
   "outputs": [],
   "source": [
    "class AugmentationTransform:\n",
    "    def __call__(self, image):\n",
    "        return Augmentation(image)  # This will now always return a single image\n",
    "    \n",
    "def adjust_brightness(image):\n",
    "    # Convert the image to a numpy array\n",
    "    image_array = np.array(image).astype(np.float32)  # Ensure it's in float32 for multiplication\n",
    "\n",
    "    # Apply random brightness adjustment factor\n",
    "    alpha = np.random.uniform(0.15, 1.7)\n",
    "    adjusted = np.clip(alpha * image_array, 0, 255)  # Clip to valid pixel range (0-255)\n",
    "    adjusted = adjusted.astype(np.uint8)  # Convert back to uint8 type for image\n",
    "\n",
    "    # Convert back to a PIL image\n",
    "    adjusted_image = Image.fromarray(adjusted)\n",
    "    return adjusted_image\n",
    "\n",
    "def add_random_lines(image):\n",
    "    # Copy the image to avoid modifying the original one\n",
    "    image_with_lines = image.copy()\n",
    "    \n",
    "    # Get the dimensions of the image\n",
    "    width, height = image_with_lines.size  # Use .size instead of .shape\n",
    "    num_lines = np.random.randint(1, 6)\n",
    "\n",
    "    for _ in range(num_lines):\n",
    "        # Generate random points for the line\n",
    "        x1, y1 = np.random.randint(0, width), np.random.randint(0, height)\n",
    "        x2, y2 = np.random.randint(0, width), np.random.randint(0, height)\n",
    "\n",
    "        # Draw the line\n",
    "        draw = ImageDraw.Draw(image_with_lines)\n",
    "        draw.line([x1, y1, x2, y2], fill=0, width=np.random.randint(1,14))\n",
    "\n",
    "    return image_with_lines\n",
    "\n",
    "\n",
    "def Augmentation(image):\n",
    "    chance = np.random.uniform()\n",
    "    if chance < 0.5:\n",
    "        if chance < 0.18:\n",
    "            image = adjust_brightness(image)\n",
    "        elif chance <= 0.32:\n",
    "            image = adjust_brightness(image)\n",
    "            image = add_random_lines(image)\n",
    "        else:\n",
    "            image = add_random_lines(image)\n",
    "    return image  # Always return a single image, not a list\n",
    "\n",
    "\n",
    "# Extract labels from file names\n",
    "def extract_labels(input_path):\n",
    "    filename = Path(input_path).stem\n",
    "    parts = re.split(r'-(?![^-]-)', filename, maxsplit=2)\n",
    "    if len(parts) >= 3 and parts[-1]:\n",
    "        y = float(parts[-1])\n",
    "        y = y / 90  # Normalize between -1 and 1\n",
    "        return y\n",
    "    else:\n",
    "        print(f\"Skipping file (not enough parts to extract labels): {filename}\")"
   ]
  },
  {
   "cell_type": "code",
   "execution_count": 46,
   "id": "79dad915-9968-47ba-a4ad-e25a2241cf62",
   "metadata": {},
   "outputs": [],
   "source": [
    "# voor het inladen van de afbeedingen in het juiste format\n",
    "class FileDataset(Dataset):\n",
    "    def __init__(self, folder, image_size, extension='jpg'):\n",
    "        super().__init__()\n",
    "        self.files = list(Path(folder).expanduser().glob(f'*.{extension}'))\n",
    "\n",
    "        # Transformations to apply to the images\n",
    "        self.transform_normal_data = transforms.Compose([\n",
    "            transforms.Resize((image_size, image_size)),\n",
    "            transforms.ToTensor(),\n",
    "        ])\n",
    "        \n",
    "        self.transform_new_data = transforms.Compose([\n",
    "            AugmentationTransform(),\n",
    "            transforms.Resize((image_size, image_size)),\n",
    "            transforms.ToTensor(),\n",
    "        ])\n",
    "\n",
    "        # Lijsten voor afbeeldingen en labels\n",
    "        self.file = []\n",
    "        self.file_new  = []\n",
    "        \n",
    "        # Laad afbeeldingen en labels\n",
    "        self._load_images_and_labels()\n",
    "        \n",
    "        # files samenvoegen\n",
    "        print(len(self.file))\n",
    "        print(len(self.file_new))\n",
    "        self.file = self.file + self.file_new\n",
    "        random.shuffle(self.file)\n",
    "        \n",
    "    def _load_images_and_labels(self):\n",
    "        for img_path in self.files:\n",
    "            # Laad de afbeelding\n",
    "            img_og = Image.open(img_path)  \n",
    "            flipped_img_og = F.hflip(img_og)  # Flip image horizontally\n",
    "\n",
    "            # Extract the corresponding label for the image using the filename\n",
    "            y = extract_labels(img_path)\n",
    "            label = torch.tensor(y, dtype=torch.float32).view(1)  # Ensure label shape is [1]\n",
    "\n",
    "            if label is None:\n",
    "                raise ValueError(f\"No label found for image: {img_path.name}\")\n",
    "            \n",
    "            # Apply the transformation (resize, to tensor)\n",
    "            img = self.transform_normal_data(img_og)\n",
    "            flipped_img = self.transform_normal_data(flipped_img_og)\n",
    "            \n",
    "            img_new = self.transform_new_data(img_og)\n",
    "            flipped_img_new = self.transform_new_data(flipped_img_og)\n",
    "   \n",
    "            # Voeg de originele afbeelding toe met label in een tupil\n",
    "            self.file.append((img, label))\n",
    "            self.file.append((flipped_img, -label))\n",
    "\n",
    "            # voeg de nieuwe afbeelding toe\n",
    "            if len(img_new) != 0:\n",
    "                self.file_new.append((img_new,label))\n",
    "                \n",
    "            if len(flipped_img_new) != 0:\n",
    "                self.file_new.append((flipped_img_new, -label))\n",
    "           \n",
    "    def __len__(self):\n",
    "        return len(self.file)\n",
    "\n",
    "    def __getitem__(self, i):       \n",
    "        file = self.file[i]\n",
    "        return file\n"
   ]
  },
  {
   "cell_type": "code",
   "execution_count": 47,
   "id": "2e37c460-c602-43a6-9aed-35bd151a3e49",
   "metadata": {},
   "outputs": [
    {
     "name": "stdout",
     "output_type": "stream",
     "text": [
      "1624\n",
      "1624\n"
     ]
    },
    {
     "data": {
      "text/plain": [
       "3248"
      ]
     },
     "execution_count": 47,
     "metadata": {},
     "output_type": "execute_result"
    }
   ],
   "source": [
    "image_size = 32\n",
    "batch_size = 32\n",
    "folder = '/datb/BotsNLE/angle90'\n",
    "ds = FileDataset(folder, image_size, extension='jpg')\n",
    "len(ds)"
   ]
  },
  {
   "cell_type": "code",
   "execution_count": 48,
   "id": "f8f1dd71-be85-4e29-a2d5-6fa311ed1879",
   "metadata": {},
   "outputs": [],
   "source": [
    "dataset_size = len(ds)\n",
    "train_size = int(0.80 * dataset_size)\n",
    "valid_size = dataset_size - train_size\n",
    "\n",
    "\n",
    "train_ds, valid_ds = random_split(ds, [train_size, valid_size])\n",
    "\n",
    "train_dl = DataLoader(train_ds, batch_size=batch_size,\n",
    "                            shuffle=True, num_workers=2)\n",
    "\n",
    "valid_dl = DataLoader(valid_ds, batch_size=batch_size,\n",
    "                            shuffle=True, num_workers=2)"
   ]
  },
  {
   "cell_type": "code",
   "execution_count": 49,
   "id": "fa332b2f-2feb-43c1-93b0-2cbcbf1f50c9",
   "metadata": {},
   "outputs": [
    {
     "data": {
      "text/plain": [
       "(torch.Size([3, 32, 32]),\n",
       " torch.Size([1]),\n",
       " tensor([-0.0406]),\n",
       " (tensor([[[0.3647, 0.3843, 0.4118,  ..., 0.0824, 0.0863, 0.0941],\n",
       "           [0.3922, 0.4000, 0.4392,  ..., 0.0784, 0.0863, 0.1412],\n",
       "           [0.4039, 0.4157, 0.4667,  ..., 0.0510, 0.0627, 0.1608],\n",
       "           ...,\n",
       "           [0.7020, 0.7255, 0.7490,  ..., 0.7490, 0.7255, 0.7020],\n",
       "           [0.6784, 0.7176, 0.7451,  ..., 0.7412, 0.7098, 0.6902],\n",
       "           [0.6549, 0.6980, 0.7333,  ..., 0.7294, 0.6980, 0.6706]],\n",
       "  \n",
       "          [[0.4824, 0.4824, 0.4980,  ..., 0.1098, 0.1176, 0.1412],\n",
       "           [0.4902, 0.4941, 0.5255,  ..., 0.1020, 0.1176, 0.1725],\n",
       "           [0.4980, 0.5020, 0.5451,  ..., 0.0667, 0.1020, 0.2314],\n",
       "           ...,\n",
       "           [0.7765, 0.7922, 0.8039,  ..., 0.7922, 0.7765, 0.7569],\n",
       "           [0.7647, 0.7922, 0.8039,  ..., 0.7843, 0.7686, 0.7490],\n",
       "           [0.7647, 0.7843, 0.8039,  ..., 0.7843, 0.7608, 0.7412]],\n",
       "  \n",
       "          [[0.3765, 0.3686, 0.3961,  ..., 0.0980, 0.1020, 0.1294],\n",
       "           [0.4000, 0.4000, 0.4471,  ..., 0.0980, 0.0941, 0.1490],\n",
       "           [0.4157, 0.4235, 0.4745,  ..., 0.0706, 0.0941, 0.2118],\n",
       "           ...,\n",
       "           [0.7333, 0.7490, 0.7608,  ..., 0.7569, 0.7373, 0.7137],\n",
       "           [0.7137, 0.7373, 0.7569,  ..., 0.7451, 0.7216, 0.6941],\n",
       "           [0.6863, 0.7137, 0.7333,  ..., 0.7216, 0.6902, 0.6667]]]),\n",
       "  tensor([-0.0406])))"
      ]
     },
     "execution_count": 49,
     "metadata": {},
     "output_type": "execute_result"
    }
   ],
   "source": [
    "ds1 = train_dl.dataset\n",
    "X, y = ds1[0]\n",
    "X.shape, y.shape, y, ds1[0]\n",
    "\n"
   ]
  },
  {
   "cell_type": "code",
   "execution_count": 50,
   "id": "a9bfd6e9-a344-45f3-9d4c-410c4077f1a9",
   "metadata": {},
   "outputs": [],
   "source": [
    "def showx(x):\n",
    "    plt.imshow(np.transpose(x,(1,2,0)))\n",
    "    \n",
    "def demo_batch():\n",
    "    real_batch = next(iter(train_dl))\n",
    "    images, labels = real_batch\n",
    "    remove_upper_half = transforms.Lambda(lambda images: images[:, :, 19:, :])  # Removes upper half, hogere waarden voor x in [:,:,x:,:] betekend een grter deel wat van boven gekropt wordt bij 19 is er nog wel wat ruis in het model maar duidelijk alleen de lijn in beeld\n",
    "    images = remove_upper_half(images)\n",
    "\n",
    "    plt.figure(figsize=(20,10))\n",
    "    plt.axis(\"off\")\n",
    "    plt.title(\"Training Images\")\n",
    "    showx(vutils.make_grid(images[:24], padding=2, normalize=True))"
   ]
  },
  {
   "cell_type": "code",
   "execution_count": 51,
   "id": "5c497cc6-6b0b-4126-ba60-2d61ffea6af5",
   "metadata": {},
   "outputs": [
    {
     "data": {
      "image/png": "[encoded data removed]",
      "text/plain": [
       "<Figure size 2000x1000 with 1 Axes>"
      ]
     },
     "metadata": {},
     "output_type": "display_data"
    }
   ],
   "source": [
    "demo_batch()"
   ]
  },
  {
   "cell_type": "markdown",
   "id": "0ef31ce9-b723-4b05-8ac1-9a5606284405",
   "metadata": {},
   "source": [
    "## Model en augmentatie maken"
   ]
  },
  {
   "cell_type": "code",
   "execution_count": 52,
   "id": "87dc87a2-3be3-41ec-a885-bb8da6316aad",
   "metadata": {},
   "outputs": [],
   "source": [
    "class RemoveUpperHalf(nn.Module):\n",
    "    def forward(self, img):\n",
    "        # Remove the upper half of the image (assuming channel-first format)\n",
    "        height = img.shape[2]\n",
    "        im = img[:, :, height//2 + 4 :, :]\n",
    "        return im\n",
    "\n",
    "def hoeken(img):\n",
    "    # Hoeken bijwerken\n",
    "    for k in img:\n",
    "        for j in range(len(k)-1):\n",
    "            if np.all(k[j] == 0):  # Use np.all to check if all elements in k[j] are 0\n",
    "                break\n",
    "            k[j] = 0\n",
    "    for k in img:\n",
    "        for j in range(len(k)-1, 0, -1):\n",
    "            if np.all(k[j] == 0):  # Use np.all to check if all elements in k[j] are 0\n",
    "                break\n",
    "            k[j] = 0\n",
    "\n",
    "    # Zorg ervoor dat de afbeelding geen extra dimensie heeft\n",
    "    if len(img.shape) == 5:  # [1, 1, 1, 32, 32] -> heeft een extra dimensie\n",
    "        img = img.squeeze()  # Verwijder de eerste dimensie (batch size 1)\n",
    "\n",
    "    # Als het nog steeds 4D is (batch_size, channels, height, width), dan is het goed\n",
    "    images_edited = img\n",
    "    return images_edited\n",
    "\n",
    "\n",
    "class ThresholdBinary(nn.Module):\n",
    "    def forward(self, img):\n",
    "        # Controleer dat de input een batch tensor is\n",
    "        if len(img.shape) != 4:\n",
    "            raise ValueError(f\"Expected 4D input (batch, channel, height, width), but got {img.shape}\")\n",
    "        \n",
    "        # Squeeze om numpy-conversie mogelijk te maken (zonder de batch/kanaal-informatie te verliezen)\n",
    "        img_np = img.squeeze(1).cpu().numpy()  # Verwijder de channel-dimensie (batch blijft)\n",
    "\n",
    "        # Gebruik OpenCV om een drempelwaarde toe te passen     \n",
    "        _, thresh = cv2.threshold(img_np, -1, 1, cv2.THRESH_BINARY_INV)\n",
    "       # print(thresh)\n",
    "       # print(len(thresh))\n",
    "        #img_hoek = hoeken(thresh)\n",
    "        \n",
    "        # Zet terug naar PyTorch tensor\n",
    "        img_thresh = np.stack(thresh)  # Combineer de batch-afbeeldingen\n",
    "        img_tensor = torch.tensor(img_thresh, dtype=torch.float32).unsqueeze(1).to(img.device)  # Voeg channel-dimensie terug\n",
    "        \n",
    "        \n",
    "        return img_tensor\n",
    "\n",
    "def convolutional_layer_image():\n",
    "    return   nn.Sequential(\n",
    "            nn.Conv2d(1, 32, kernel_size=3, stride=1, padding=2),\n",
    "            nn.ReLU(),\n",
    "            nn.MaxPool2d(kernel_size=2, stride=1)\n",
    "        )\n",
    "\n",
    "def conv_layer():\n",
    "    return nn.Sequential(\n",
    "            nn.Conv2d(1, 32, kernel_size=3, stride=1, padding=2),\n",
    "            nn.ReLU(),\n",
    "            nn.MaxPool2d(kernel_size=2, stride=1),\n",
    "            nn.Flatten(1),\n",
    "            nn.Linear(32 * 33 * 33, 1)\n",
    "        )\n",
    "\n",
    "class Standaardiseren(nn.Module):\n",
    "    def forward(self, images_edited):\n",
    "        # standaardiseren\n",
    "        images_edited = (images_edited - torch.mean(images_edited)) / torch.std(images_edited)\n",
    "        return images_edited\n",
    "    \n"
   ]
  },
  {
   "cell_type": "code",
   "execution_count": 53,
   "id": "1ab437bb-0fa2-492a-9d82-fe8d89004c01",
   "metadata": {},
   "outputs": [],
   "source": [
    "class Model(nn.Module):\n",
    "    def __init__(self):\n",
    "        super().__init__()\n",
    "      #  self.normalize = transforms.Normalize(mean, std)\n",
    "    \n",
    "\n",
    "        self.augment = nn.Sequential(\n",
    "             transforms.Grayscale(num_output_channels=1),\n",
    "             RemoveUpperHalf(),\n",
    "             transforms.Resize((32, 32), antialias=True),\n",
    "             Standaardiseren(),\n",
    "             ThresholdBinary(),)\n",
    "        \n",
    "        self.conv = conv_layer()\n",
    "        \n",
    "        self.convolution_image = convolutional_layer_image()\n",
    "\n",
    "    def forward(self, X):\n",
    "        X = X.float()\n",
    "        X = self.augment(X)\n",
    "\n",
    "        if len(X.shape) != 4:\n",
    "            raise ValueError(f\"Input must have 4 dimensions, but got {X.shape}\")\n",
    "            \n",
    "        X = self.conv[:-2](X)\n",
    "       #print(\"Shape after convolution:\", X.shape)\n",
    "        X = self.conv[-2:](X)\n",
    "        return X"
   ]
  },
  {
   "cell_type": "code",
   "execution_count": 57,
   "id": "c835b93d-b506-423e-8fa0-6a50a3f855fa",
   "metadata": {},
   "outputs": [],
   "source": [
    "def augmentation_visualisation_with_conv(Model):\n",
    "    \"\"\"\n",
    "    Visualizes the original, augmented, and convolutional results of an image.\n",
    "    \n",
    "    Parameters:\n",
    "        model: The model containing the augmentation and convolution logic.\n",
    "        sample_image: A single input image tensor.\n",
    "    \"\"\"\n",
    "\n",
    "    # Instantiate and evaluate the model\n",
    "    model = Model\n",
    "    model.eval()  # Ensure the model is in evaluation mode\n",
    "\n",
    "    # Load a single example from your dataset\n",
    "    sample_image, _ = next(iter(train_dl))  # Assuming train_dl is your DataLoader\n",
    "    sample_image = sample_image[:1]  # Take a single image (batch size = 1)\n",
    "\n",
    "    # Normalize and augment the input\n",
    "  #  normalized_image = model.normalize(sample_image)\n",
    "   # print(f'normalized image shape{normalized_image.shape}')\n",
    "   \n",
    "    \n",
    "    augmented_image = model.augment(sample_image)\n",
    "    print(f'Augmented image shape{augmented_image.shape}')\n",
    "\n",
    "    # Extract convolutional features\n",
    "    conv_output = model.convolution_image(augmented_image)\n",
    "    print(f'conv_output shape{conv_output.shape}')\n",
    "\n",
    "    # Augmented image\n",
    "    augmented_image_squeezed = augmented_image[0].squeeze().detach().cpu().numpy()\n",
    "\n",
    "    # Convolutional output (take the first channel)\n",
    "    conv_output_channel = conv_output[0, 0].detach().cpu().numpy()\n",
    "\n",
    "\n",
    "    # Plot all three images side by side\n",
    "    fig, axes = plt.subplots(1, 2)\n",
    "    \n",
    "    axes[1].imshow(augmented_image_squeezed, cmap=\"gray\")\n",
    "    axes[1].set_title(\"Augmented Image\")\n",
    "    axes[1].axis(\"off\")\n",
    "\n",
    "    # Convolutional output\n",
    "    axes[0].imshow(conv_output_channel, cmap=\"gray\")\n",
    "    axes[0].set_title(\"Convolutional Output\")\n",
    "    axes[0].axis(\"off\")\n",
    "\n",
    "    # Display the plot\n",
    "    plt.tight_layout()\n",
    "    plt.show()"
   ]
  },
  {
   "cell_type": "code",
   "execution_count": 58,
   "id": "04bc7471-2abb-4f2b-8a01-a8d1a192e049",
   "metadata": {},
   "outputs": [],
   "source": [
    "model = Model()"
   ]
  },
  {
   "cell_type": "code",
   "execution_count": 59,
   "id": "b23fc1f8-e4dc-4433-ae7d-3fb4a152664f",
   "metadata": {},
   "outputs": [
    {
     "name": "stdout",
     "output_type": "stream",
     "text": [
      "Augmented image shapetorch.Size([1, 1, 32, 32])\n",
      "conv_output shapetorch.Size([1, 32, 33, 33])\n"
     ]
    },
    {
     "data": {
      "image/png": "[encoded data removed]",
      "text/plain": [
       "<Figure size 640x480 with 2 Axes>"
      ]
     },
     "metadata": {},
     "output_type": "display_data"
    },
    {
     "name": "stdout",
     "output_type": "stream",
     "text": [
      "Augmented image shapetorch.Size([1, 1, 32, 32])\n",
      "conv_output shapetorch.Size([1, 32, 33, 33])\n"
     ]
    },
    {
     "data": {
      "image/png": "[encoded data removed]",
      "text/plain": [
       "<Figure size 640x480 with 2 Axes>"
      ]
     },
     "metadata": {},
     "output_type": "display_data"
    },
    {
     "name": "stdout",
     "output_type": "stream",
     "text": [
      "Augmented image shapetorch.Size([1, 1, 32, 32])\n",
      "conv_output shapetorch.Size([1, 32, 33, 33])\n"
     ]
    },
    {
     "data": {
      "image/png": "[encoded data removed]",
      "text/plain": [
       "<Figure size 640x480 with 2 Axes>"
      ]
     },
     "metadata": {},
     "output_type": "display_data"
    }
   ],
   "source": [
    "for i in range(3):\n",
    "     augmentation_visualisation_with_conv(model)"
   ]
  },
  {
   "cell_type": "markdown",
   "id": "6b5fc792-591c-48da-a4e2-b8fc5ef7519b",
   "metadata": {},
   "source": [
    "## Trainen"
   ]
  },
  {
   "cell_type": "code",
   "execution_count": 60,
   "id": "02d355af-630a-4e00-8366-2e7b19430ef4",
   "metadata": {},
   "outputs": [],
   "source": [
    "# Training the model\n",
    "model = Model()\n",
    "model.cuda()\n",
    "t = Trainer(model, \n",
    "            loss=nn.MSELoss(), \n",
    "            train_dl=train_dl, \n",
    "            valid_dl=valid_dl, \n",
    "            metrics=R2Score,\n",
    "            halt_notebook=False) \n"
   ]
  },
  {
   "cell_type": "code",
   "execution_count": 63,
   "id": "35fcb083-134d-4ab4-ac18-1ecd2391870a",
   "metadata": {},
   "outputs": [
    {
     "data": {
      "application/vnd.jupyter.widget-view+json": {
       "model_id": "b682d0fc9d6641638b3d7d1551574cf0",
       "version_major": 2,
       "version_minor": 0
      },
      "text/plain": [
       "  0%|          | 0/40 [00:00<?, ?it/s]"
      ]
     },
     "metadata": {},
     "output_type": "display_data"
    },
    {
     "data": {
      "image/png": "[encoded data removed]",
      "text/plain": [
       "<Figure size 400x400 with 1 Axes>"
      ]
     },
     "metadata": {},
     "output_type": "display_data"
    }
   ],
   "source": [
    "t.lr_find()"
   ]
  },
  {
   "cell_type": "code",
   "execution_count": 66,
   "id": "9332a095-1d34-4fc6-9ead-e249dd514969",
   "metadata": {},
   "outputs": [
    {
     "data": {
      "application/vnd.jupyter.widget-view+json": {
       "model_id": "f4dcda2d6f0b43be8c9dce349e00c51b",
       "version_major": 2,
       "version_minor": 0
      },
      "text/plain": [
       "Total:   0%|          | 0/32960 [00:00<?, ?it/s]"
      ]
     },
     "metadata": {},
     "output_type": "display_data"
    },
    {
     "name": "stdout",
     "output_type": "stream",
     "text": [
      "Working on cuda:4\n",
      "31 0.72s trainloss=0.09505 validloss=0.02773 R2Score=0.59664 \n",
      "32 0.70s trainloss=0.01214 validloss=0.00734 R2Score=0.89328 \n",
      "33 0.72s trainloss=0.00813 validloss=0.00952 R2Score=0.86147 \n",
      "34 0.72s trainloss=0.00839 validloss=0.00892 R2Score=0.87017 \n",
      "35 0.72s trainloss=0.00639 validloss=0.00928 R2Score=0.86504 \n",
      "36 0.77s trainloss=0.00717 validloss=0.00755 R2Score=0.89015 \n",
      "37 0.72s trainloss=0.00808 validloss=0.00760 R2Score=0.88945 \n",
      "38 0.71s trainloss=0.00722 validloss=0.00763 R2Score=0.88898 \n",
      "39 0.70s trainloss=0.00776 validloss=0.00749 R2Score=0.89100 \n",
      "40 0.76s trainloss=0.00695 validloss=0.00708 R2Score=0.89705 \n"
     ]
    }
   ],
   "source": [
    "t.train(10, lr=(1e-4, 1e-2))"
   ]
  },
  {
   "cell_type": "code",
   "execution_count": null,
   "id": "d3eedb8e-ca20-4035-a9dd-881a31605690",
   "metadata": {},
   "outputs": [],
   "source": []
  }
 ],
 "metadata": {
  "kernelspec": {
   "display_name": "Python 3 (ipykernel)",
   "language": "python",
   "name": "python3"
  },
  "language_info": {
   "codemirror_mode": {
    "name": "ipython",
    "version": 3
   },
   "file_extension": ".py",
   "mimetype": "text/x-python",
   "name": "python",
   "nbconvert_exporter": "python",
   "pygments_lexer": "ipython3",
   "version": "3.10.13"
  }
 },
 "nbformat": 4,
 "nbformat_minor": 5
}
